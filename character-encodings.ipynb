{
 "cells": [
  {
   "cell_type": "markdown",
   "id": "6b963939",
   "metadata": {
    "papermill": {
     "duration": 0.018059,
     "end_time": "2022-04-11T22:17:35.498327",
     "exception": false,
     "start_time": "2022-04-11T22:17:35.480268",
     "status": "completed"
    },
    "tags": []
   },
   "source": [
    "**This notebook is an exercise in the [Data Cleaning](https://www.kaggle.com/learn/data-cleaning) course.  You can reference the tutorial at [this link](https://www.kaggle.com/alexisbcook/character-encodings).**\n",
    "\n",
    "---\n"
   ]
  },
  {
   "cell_type": "markdown",
   "id": "59593683",
   "metadata": {
    "papermill": {
     "duration": 0.017458,
     "end_time": "2022-04-11T22:17:35.534860",
     "exception": false,
     "start_time": "2022-04-11T22:17:35.517402",
     "status": "completed"
    },
    "tags": []
   },
   "source": [
    "In this exercise, you'll apply what you learned in the **Character encodings** tutorial.\n",
    "\n",
    "# Setup\n",
    "\n",
    "The questions below will give you feedback on your work. Run the following cell to set up the feedback system."
   ]
  },
  {
   "cell_type": "code",
   "execution_count": 1,
   "id": "d885c664",
   "metadata": {
    "execution": {
     "iopub.execute_input": "2022-04-11T22:17:35.573313Z",
     "iopub.status.busy": "2022-04-11T22:17:35.572050Z",
     "iopub.status.idle": "2022-04-11T22:17:35.655598Z",
     "shell.execute_reply": "2022-04-11T22:17:35.654570Z",
     "shell.execute_reply.started": "2022-04-11T22:05:26.524887Z"
    },
    "papermill": {
     "duration": 0.1039,
     "end_time": "2022-04-11T22:17:35.655854",
     "exception": false,
     "start_time": "2022-04-11T22:17:35.551954",
     "status": "completed"
    },
    "tags": []
   },
   "outputs": [
    {
     "name": "stdout",
     "output_type": "stream",
     "text": [
      "Setup Complete\n"
     ]
    }
   ],
   "source": [
    "from learntools.core import binder\n",
    "binder.bind(globals())\n",
    "from learntools.data_cleaning.ex4 import *\n",
    "print(\"Setup Complete\")"
   ]
  },
  {
   "cell_type": "markdown",
   "id": "7f5da71e",
   "metadata": {
    "papermill": {
     "duration": 0.017141,
     "end_time": "2022-04-11T22:17:35.691915",
     "exception": false,
     "start_time": "2022-04-11T22:17:35.674774",
     "status": "completed"
    },
    "tags": []
   },
   "source": [
    "# Get our environment set up\n",
    "\n",
    "The first thing we'll need to do is load in the libraries we'll be using."
   ]
  },
  {
   "cell_type": "code",
   "execution_count": 2,
   "id": "1903c306",
   "metadata": {
    "execution": {
     "iopub.execute_input": "2022-04-11T22:17:35.731265Z",
     "iopub.status.busy": "2022-04-11T22:17:35.730473Z",
     "iopub.status.idle": "2022-04-11T22:17:35.734387Z",
     "shell.execute_reply": "2022-04-11T22:17:35.734936Z",
     "shell.execute_reply.started": "2022-04-11T22:05:26.635762Z"
    },
    "papermill": {
     "duration": 0.024881,
     "end_time": "2022-04-11T22:17:35.735108",
     "exception": false,
     "start_time": "2022-04-11T22:17:35.710227",
     "status": "completed"
    },
    "tags": []
   },
   "outputs": [],
   "source": [
    "# modules we'll use\n",
    "import pandas as pd\n",
    "import numpy as np\n",
    "\n",
    "# helpful character encoding module\n",
    "import chardet\n",
    "\n",
    "# set seed for reproducibility\n",
    "np.random.seed(0)"
   ]
  },
  {
   "cell_type": "markdown",
   "id": "f35caead",
   "metadata": {
    "papermill": {
     "duration": 0.018615,
     "end_time": "2022-04-11T22:17:35.771216",
     "exception": false,
     "start_time": "2022-04-11T22:17:35.752601",
     "status": "completed"
    },
    "tags": []
   },
   "source": [
    "# 1) What are encodings?\n",
    "\n",
    "You're working with a dataset composed of bytes.  Run the code cell below to print a sample entry."
   ]
  },
  {
   "cell_type": "code",
   "execution_count": 3,
   "id": "c0eb9b55",
   "metadata": {
    "execution": {
     "iopub.execute_input": "2022-04-11T22:17:35.809729Z",
     "iopub.status.busy": "2022-04-11T22:17:35.809051Z",
     "iopub.status.idle": "2022-04-11T22:17:35.814413Z",
     "shell.execute_reply": "2022-04-11T22:17:35.814924Z",
     "shell.execute_reply.started": "2022-04-11T22:05:32.145999Z"
    },
    "papermill": {
     "duration": 0.026336,
     "end_time": "2022-04-11T22:17:35.815109",
     "exception": false,
     "start_time": "2022-04-11T22:17:35.788773",
     "status": "completed"
    },
    "tags": []
   },
   "outputs": [
    {
     "name": "stdout",
     "output_type": "stream",
     "text": [
      "b'\\xa7A\\xa6n'\n",
      "data type: <class 'bytes'>\n"
     ]
    }
   ],
   "source": [
    "sample_entry = b'\\xa7A\\xa6n'\n",
    "print(sample_entry)\n",
    "print('data type:', type(sample_entry))"
   ]
  },
  {
   "cell_type": "markdown",
   "id": "ef598c08",
   "metadata": {
    "papermill": {
     "duration": 0.017534,
     "end_time": "2022-04-11T22:17:35.851156",
     "exception": false,
     "start_time": "2022-04-11T22:17:35.833622",
     "status": "completed"
    },
    "tags": []
   },
   "source": [
    "You notice that it doesn't use the standard UTF-8 encoding. \n",
    "\n",
    "Use the next code cell to create a variable `new_entry` that changes the encoding from `\"big5-tw\"` to `\"utf-8\"`.  `new_entry` should have the bytes datatype."
   ]
  },
  {
   "cell_type": "code",
   "execution_count": 4,
   "id": "d8488653",
   "metadata": {
    "execution": {
     "iopub.execute_input": "2022-04-11T22:17:35.890664Z",
     "iopub.status.busy": "2022-04-11T22:17:35.890015Z",
     "iopub.status.idle": "2022-04-11T22:17:35.899081Z",
     "shell.execute_reply": "2022-04-11T22:17:35.899604Z",
     "shell.execute_reply.started": "2022-04-11T22:07:58.885954Z"
    },
    "papermill": {
     "duration": 0.030667,
     "end_time": "2022-04-11T22:17:35.899800",
     "exception": false,
     "start_time": "2022-04-11T22:17:35.869133",
     "status": "completed"
    },
    "tags": []
   },
   "outputs": [
    {
     "data": {
      "application/javascript": [
       "parent.postMessage({\"jupyterEvent\": \"custom.exercise_interaction\", \"data\": {\"outcomeType\": 1, \"valueTowardsCompletion\": 0.3333333333333333, \"interactionType\": 1, \"questionType\": 1, \"questionId\": \"1_EncodingsIntro\", \"learnToolsVersion\": \"0.3.4\", \"failureMessage\": \"\", \"exceptionClass\": \"\", \"trace\": \"\"}}, \"*\")"
      ],
      "text/plain": [
       "<IPython.core.display.Javascript object>"
      ]
     },
     "metadata": {},
     "output_type": "display_data"
    },
    {
     "data": {
      "text/markdown": [
       "<span style=\"color:#33cc33\">Correct</span>"
      ],
      "text/plain": [
       "Correct"
      ]
     },
     "metadata": {},
     "output_type": "display_data"
    }
   ],
   "source": [
    "new_entry = sample_entry.decode('big5-tw').encode('utf-8')\n",
    "\n",
    "# Check your answer\n",
    "q1.check()"
   ]
  },
  {
   "cell_type": "code",
   "execution_count": 5,
   "id": "c9a5fcab",
   "metadata": {
    "execution": {
     "iopub.execute_input": "2022-04-11T22:17:35.942294Z",
     "iopub.status.busy": "2022-04-11T22:17:35.941653Z",
     "iopub.status.idle": "2022-04-11T22:17:35.944681Z",
     "shell.execute_reply": "2022-04-11T22:17:35.945230Z",
     "shell.execute_reply.started": "2022-04-11T22:08:03.066156Z"
    },
    "papermill": {
     "duration": 0.025748,
     "end_time": "2022-04-11T22:17:35.945396",
     "exception": false,
     "start_time": "2022-04-11T22:17:35.919648",
     "status": "completed"
    },
    "tags": []
   },
   "outputs": [],
   "source": [
    "# Lines below will give you a hint or solution code\n",
    "#q1.hint()\n",
    "#q1.solution()"
   ]
  },
  {
   "cell_type": "markdown",
   "id": "7aee2362",
   "metadata": {
    "papermill": {
     "duration": 0.019131,
     "end_time": "2022-04-11T22:17:35.983644",
     "exception": false,
     "start_time": "2022-04-11T22:17:35.964513",
     "status": "completed"
    },
    "tags": []
   },
   "source": [
    "# 2) Reading in files with encoding problems\n",
    "\n",
    "Use the code cell below to read in this file at path `\"../input/fatal-police-shootings-in-the-us/PoliceKillingsUS.csv\"`.  \n",
    "\n",
    "Figure out what the correct encoding should be and read in the file to a DataFrame `police_killings`."
   ]
  },
  {
   "cell_type": "code",
   "execution_count": 6,
   "id": "8d61621f",
   "metadata": {
    "execution": {
     "iopub.execute_input": "2022-04-11T22:17:36.027962Z",
     "iopub.status.busy": "2022-04-11T22:17:36.027320Z",
     "iopub.status.idle": "2022-04-11T22:17:36.049054Z",
     "shell.execute_reply": "2022-04-11T22:17:36.049691Z",
     "shell.execute_reply.started": "2022-04-11T22:15:20.698159Z"
    },
    "papermill": {
     "duration": 0.04723,
     "end_time": "2022-04-11T22:17:36.049885",
     "exception": false,
     "start_time": "2022-04-11T22:17:36.002655",
     "status": "completed"
    },
    "tags": []
   },
   "outputs": [
    {
     "data": {
      "application/javascript": [
       "parent.postMessage({\"jupyterEvent\": \"custom.exercise_interaction\", \"data\": {\"outcomeType\": 1, \"valueTowardsCompletion\": 0.3333333333333333, \"interactionType\": 1, \"questionType\": 1, \"questionId\": \"2_ReadIn\", \"learnToolsVersion\": \"0.3.4\", \"failureMessage\": \"\", \"exceptionClass\": \"\", \"trace\": \"\"}}, \"*\")"
      ],
      "text/plain": [
       "<IPython.core.display.Javascript object>"
      ]
     },
     "metadata": {},
     "output_type": "display_data"
    },
    {
     "data": {
      "text/markdown": [
       "<span style=\"color:#33cc33\">Correct</span>"
      ],
      "text/plain": [
       "Correct"
      ]
     },
     "metadata": {},
     "output_type": "display_data"
    }
   ],
   "source": [
    "# TODO: Load in the DataFrame correctly.\n",
    "police_killings = pd.read_csv('../input/fatal-police-shootings-in-the-us/PoliceKillingsUS.csv',encoding='Windows-1252')\n",
    "\n",
    "# Check your answer\n",
    "q2.check()"
   ]
  },
  {
   "cell_type": "markdown",
   "id": "7b6d0d83",
   "metadata": {
    "papermill": {
     "duration": 0.020003,
     "end_time": "2022-04-11T22:17:36.090465",
     "exception": false,
     "start_time": "2022-04-11T22:17:36.070462",
     "status": "completed"
    },
    "tags": []
   },
   "source": [
    "Feel free to use any additional code cells for supplemental work.  To get credit for finishing this question, you'll need to run `q2.check()` and get a result of **Correct**."
   ]
  },
  {
   "cell_type": "code",
   "execution_count": 7,
   "id": "eade4e80",
   "metadata": {
    "execution": {
     "iopub.execute_input": "2022-04-11T22:17:36.134064Z",
     "iopub.status.busy": "2022-04-11T22:17:36.133412Z",
     "iopub.status.idle": "2022-04-11T22:17:36.810127Z",
     "shell.execute_reply": "2022-04-11T22:17:36.809535Z",
     "shell.execute_reply.started": "2022-04-11T22:14:49.487608Z"
    },
    "papermill": {
     "duration": 0.699544,
     "end_time": "2022-04-11T22:17:36.810284",
     "exception": false,
     "start_time": "2022-04-11T22:17:36.110740",
     "status": "completed"
    },
    "tags": []
   },
   "outputs": [
    {
     "name": "stdout",
     "output_type": "stream",
     "text": [
      "{'encoding': 'Windows-1252', 'confidence': 0.73, 'language': ''}\n"
     ]
    }
   ],
   "source": [
    "# (Optional) Use this code cell for any additional work.\n",
    "with open('../input/fatal-police-shootings-in-the-us/PoliceKillingsUS.csv','rb') as rawdata:\n",
    "    print(chardet.detect(rawdata.read(30000)))"
   ]
  },
  {
   "cell_type": "code",
   "execution_count": 8,
   "id": "5e2b652c",
   "metadata": {
    "execution": {
     "iopub.execute_input": "2022-04-11T22:17:36.857663Z",
     "iopub.status.busy": "2022-04-11T22:17:36.856551Z",
     "iopub.status.idle": "2022-04-11T22:17:36.859375Z",
     "shell.execute_reply": "2022-04-11T22:17:36.858847Z",
     "shell.execute_reply.started": "2022-04-11T22:15:41.813792Z"
    },
    "papermill": {
     "duration": 0.028387,
     "end_time": "2022-04-11T22:17:36.859524",
     "exception": false,
     "start_time": "2022-04-11T22:17:36.831137",
     "status": "completed"
    },
    "tags": []
   },
   "outputs": [],
   "source": [
    "# Lines below will give you a hint or solution code\n",
    "#q2.hint()\n",
    "\n",
    "#q2.solution()"
   ]
  },
  {
   "cell_type": "markdown",
   "id": "e4433651",
   "metadata": {
    "papermill": {
     "duration": 0.020422,
     "end_time": "2022-04-11T22:17:36.900797",
     "exception": false,
     "start_time": "2022-04-11T22:17:36.880375",
     "status": "completed"
    },
    "tags": []
   },
   "source": [
    "# 3) Saving your files with UTF-8 encoding\n",
    "\n",
    "Save a version of the police killings dataset to CSV with UTF-8 encoding.  Your answer will be marked correct after saving this file.  \n",
    "\n",
    "Note: When using the `to_csv()` method, supply only the name of the file (e.g., `\"my_file.csv\"`).  This saves the file at the filepath `\"/kaggle/working/my_file.csv\"`."
   ]
  },
  {
   "cell_type": "code",
   "execution_count": 9,
   "id": "00a07c62",
   "metadata": {
    "execution": {
     "iopub.execute_input": "2022-04-11T22:17:36.947224Z",
     "iopub.status.busy": "2022-04-11T22:17:36.946545Z",
     "iopub.status.idle": "2022-04-11T22:17:36.988376Z",
     "shell.execute_reply": "2022-04-11T22:17:36.988877Z",
     "shell.execute_reply.started": "2022-04-11T22:16:51.276173Z"
    },
    "papermill": {
     "duration": 0.067365,
     "end_time": "2022-04-11T22:17:36.989047",
     "exception": false,
     "start_time": "2022-04-11T22:17:36.921682",
     "status": "completed"
    },
    "tags": []
   },
   "outputs": [
    {
     "data": {
      "application/javascript": [
       "parent.postMessage({\"jupyterEvent\": \"custom.exercise_interaction\", \"data\": {\"outcomeType\": 1, \"valueTowardsCompletion\": 0.3333333333333333, \"interactionType\": 1, \"questionType\": 2, \"questionId\": \"3_SaveCSV\", \"learnToolsVersion\": \"0.3.4\", \"failureMessage\": \"\", \"exceptionClass\": \"\", \"trace\": \"\"}}, \"*\")"
      ],
      "text/plain": [
       "<IPython.core.display.Javascript object>"
      ]
     },
     "metadata": {},
     "output_type": "display_data"
    },
    {
     "data": {
      "text/markdown": [
       "<span style=\"color:#33cc33\">Correct</span>"
      ],
      "text/plain": [
       "Correct"
      ]
     },
     "metadata": {},
     "output_type": "display_data"
    }
   ],
   "source": [
    "# TODO: Save the police killings dataset to CSV\n",
    "police_killings.to_csv(\"my_file.csv\")\n",
    "\n",
    "# Check your answer\n",
    "q3.check()"
   ]
  },
  {
   "cell_type": "code",
   "execution_count": 10,
   "id": "3ca7d19b",
   "metadata": {
    "execution": {
     "iopub.execute_input": "2022-04-11T22:17:37.037685Z",
     "iopub.status.busy": "2022-04-11T22:17:37.037025Z",
     "iopub.status.idle": "2022-04-11T22:17:37.039417Z",
     "shell.execute_reply": "2022-04-11T22:17:37.038906Z",
     "shell.execute_reply.started": "2022-04-11T22:16:54.798327Z"
    },
    "papermill": {
     "duration": 0.028481,
     "end_time": "2022-04-11T22:17:37.039562",
     "exception": false,
     "start_time": "2022-04-11T22:17:37.011081",
     "status": "completed"
    },
    "tags": []
   },
   "outputs": [],
   "source": [
    "# Lines below will give you a hint or solution code\n",
    "#q3.hint()\n",
    "#q3.solution()"
   ]
  },
  {
   "cell_type": "markdown",
   "id": "39298d12",
   "metadata": {
    "papermill": {
     "duration": 0.021574,
     "end_time": "2022-04-11T22:17:37.083941",
     "exception": false,
     "start_time": "2022-04-11T22:17:37.062367",
     "status": "completed"
    },
    "tags": []
   },
   "source": [
    "# (Optional) More practice\n",
    "\n",
    "Check out [this dataset of files in different character encodings](https://www.kaggle.com/rtatman/character-encoding-examples). Can you read in all the files with their original encodings and them save them out as UTF-8 files?\n",
    "\n",
    "If you have a file that's in UTF-8 but has just a couple of weird-looking characters in it, you can try out the [ftfy module](https://ftfy.readthedocs.io/en/latest/#) and see if it helps. \n",
    "\n",
    "# Keep going\n",
    "\n",
    "In the final lesson, learn how to [**clean up inconsistent text entries**](https://www.kaggle.com/alexisbcook/inconsistent-data-entry) in your dataset."
   ]
  },
  {
   "cell_type": "markdown",
   "id": "5b06f50b",
   "metadata": {
    "papermill": {
     "duration": 0.021615,
     "end_time": "2022-04-11T22:17:37.127458",
     "exception": false,
     "start_time": "2022-04-11T22:17:37.105843",
     "status": "completed"
    },
    "tags": []
   },
   "source": [
    "---\n",
    "\n",
    "\n",
    "\n",
    "\n",
    "*Have questions or comments? Visit the [course discussion forum](https://www.kaggle.com/learn/data-cleaning/discussion) to chat with other learners.*"
   ]
  }
 ],
 "metadata": {
  "kernelspec": {
   "display_name": "Python 3",
   "language": "python",
   "name": "python3"
  },
  "language_info": {
   "codemirror_mode": {
    "name": "ipython",
    "version": 3
   },
   "file_extension": ".py",
   "mimetype": "text/x-python",
   "name": "python",
   "nbconvert_exporter": "python",
   "pygments_lexer": "ipython3",
   "version": "3.7.12"
  },
  "papermill": {
   "default_parameters": {},
   "duration": 12.593151,
   "end_time": "2022-04-11T22:17:37.863458",
   "environment_variables": {},
   "exception": null,
   "input_path": "__notebook__.ipynb",
   "output_path": "__notebook__.ipynb",
   "parameters": {},
   "start_time": "2022-04-11T22:17:25.270307",
   "version": "2.3.3"
  }
 },
 "nbformat": 4,
 "nbformat_minor": 5
}
