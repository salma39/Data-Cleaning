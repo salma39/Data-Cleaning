{
 "cells": [
  {
   "cell_type": "markdown",
   "id": "93131402",
   "metadata": {
    "papermill": {
     "duration": 0.032395,
     "end_time": "2022-04-11T02:29:31.334017",
     "exception": false,
     "start_time": "2022-04-11T02:29:31.301622",
     "status": "completed"
    },
    "tags": []
   },
   "source": [
    "**This notebook is an exercise in the [Data Cleaning](https://www.kaggle.com/learn/data-cleaning) course.  You can reference the tutorial at [this link](https://www.kaggle.com/alexisbcook/parsing-dates).**\n",
    "\n",
    "---\n"
   ]
  },
  {
   "cell_type": "markdown",
   "id": "0a586d44",
   "metadata": {
    "papermill": {
     "duration": 0.02964,
     "end_time": "2022-04-11T02:29:31.395579",
     "exception": false,
     "start_time": "2022-04-11T02:29:31.365939",
     "status": "completed"
    },
    "tags": []
   },
   "source": [
    "In this exercise, you'll apply what you learned in the **Parsing dates** tutorial.\n",
    "\n",
    "# Setup\n",
    "\n",
    "The questions below will give you feedback on your work. Run the following cell to set up the feedback system."
   ]
  },
  {
   "cell_type": "code",
   "execution_count": 1,
   "id": "f50ee7de",
   "metadata": {
    "execution": {
     "iopub.execute_input": "2022-04-11T02:29:31.465472Z",
     "iopub.status.busy": "2022-04-11T02:29:31.464852Z",
     "iopub.status.idle": "2022-04-11T02:29:32.782692Z",
     "shell.execute_reply": "2022-04-11T02:29:32.781560Z",
     "shell.execute_reply.started": "2022-04-11T01:56:57.946578Z"
    },
    "papermill": {
     "duration": 1.357256,
     "end_time": "2022-04-11T02:29:32.782938",
     "exception": false,
     "start_time": "2022-04-11T02:29:31.425682",
     "status": "completed"
    },
    "tags": []
   },
   "outputs": [
    {
     "name": "stdout",
     "output_type": "stream",
     "text": [
      "Setup Complete\n"
     ]
    }
   ],
   "source": [
    "from learntools.core import binder\n",
    "binder.bind(globals())\n",
    "from learntools.data_cleaning.ex3 import *\n",
    "print(\"Setup Complete\")"
   ]
  },
  {
   "cell_type": "markdown",
   "id": "344892b4",
   "metadata": {
    "papermill": {
     "duration": 0.029964,
     "end_time": "2022-04-11T02:29:32.844289",
     "exception": false,
     "start_time": "2022-04-11T02:29:32.814325",
     "status": "completed"
    },
    "tags": []
   },
   "source": [
    "# Get our environment set up\n",
    "\n",
    "The first thing we'll need to do is load in the libraries and dataset we'll be using. We'll be working with a dataset containing information on earthquakes that occured between 1965 and 2016."
   ]
  },
  {
   "cell_type": "code",
   "execution_count": 2,
   "id": "34f15bf0",
   "metadata": {
    "execution": {
     "iopub.execute_input": "2022-04-11T02:29:32.912870Z",
     "iopub.status.busy": "2022-04-11T02:29:32.912023Z",
     "iopub.status.idle": "2022-04-11T02:29:33.006452Z",
     "shell.execute_reply": "2022-04-11T02:29:33.005772Z",
     "shell.execute_reply.started": "2022-04-11T01:56:58.106797Z"
    },
    "papermill": {
     "duration": 0.130738,
     "end_time": "2022-04-11T02:29:33.006607",
     "exception": false,
     "start_time": "2022-04-11T02:29:32.875869",
     "status": "completed"
    },
    "tags": []
   },
   "outputs": [],
   "source": [
    "# modules we'll use\n",
    "import pandas as pd\n",
    "import numpy as np\n",
    "import seaborn as sns\n",
    "import datetime\n",
    "\n",
    "# read in our data\n",
    "earthquakes = pd.read_csv(\"../input/earthquake-database/database.csv\")\n",
    "\n",
    "# set seed for reproducibility\n",
    "np.random.seed(0)"
   ]
  },
  {
   "cell_type": "markdown",
   "id": "4e041003",
   "metadata": {
    "papermill": {
     "duration": 0.030585,
     "end_time": "2022-04-11T02:29:33.067718",
     "exception": false,
     "start_time": "2022-04-11T02:29:33.037133",
     "status": "completed"
    },
    "tags": []
   },
   "source": [
    "# 1) Check the data type of our date column\n",
    "\n",
    "You'll be working with the \"Date\" column from the `earthquakes` dataframe.  Investigate this column now: does it look like it contains dates?  What is the dtype of the column?"
   ]
  },
  {
   "cell_type": "markdown",
   "id": "c870fa48",
   "metadata": {
    "papermill": {
     "duration": 0.030543,
     "end_time": "2022-04-11T02:29:33.128595",
     "exception": false,
     "start_time": "2022-04-11T02:29:33.098052",
     "status": "completed"
    },
    "tags": []
   },
   "source": []
  },
  {
   "cell_type": "code",
   "execution_count": 3,
   "id": "6b4545ba",
   "metadata": {
    "execution": {
     "iopub.execute_input": "2022-04-11T02:29:33.200579Z",
     "iopub.status.busy": "2022-04-11T02:29:33.199461Z",
     "iopub.status.idle": "2022-04-11T02:29:33.203431Z",
     "shell.execute_reply": "2022-04-11T02:29:33.203963Z",
     "shell.execute_reply.started": "2022-04-11T01:57:50.998520Z"
    },
    "papermill": {
     "duration": 0.045371,
     "end_time": "2022-04-11T02:29:33.204137",
     "exception": false,
     "start_time": "2022-04-11T02:29:33.158766",
     "status": "completed"
    },
    "tags": []
   },
   "outputs": [
    {
     "data": {
      "text/plain": [
       "0    01/02/1965\n",
       "1    01/04/1965\n",
       "2    01/05/1965\n",
       "3    01/08/1965\n",
       "4    01/09/1965\n",
       "Name: Date, dtype: object"
      ]
     },
     "execution_count": 3,
     "metadata": {},
     "output_type": "execute_result"
    }
   ],
   "source": [
    "# TODO: Your code here!\n",
    "earthquakes['Date'].head()"
   ]
  },
  {
   "cell_type": "markdown",
   "id": "0c9f5090",
   "metadata": {
    "papermill": {
     "duration": 0.031413,
     "end_time": "2022-04-11T02:29:33.265926",
     "exception": false,
     "start_time": "2022-04-11T02:29:33.234513",
     "status": "completed"
    },
    "tags": []
   },
   "source": [
    "Once you have answered the question above, run the code cell below to get credit for your work."
   ]
  },
  {
   "cell_type": "code",
   "execution_count": 4,
   "id": "10c0979e",
   "metadata": {
    "execution": {
     "iopub.execute_input": "2022-04-11T02:29:33.333020Z",
     "iopub.status.busy": "2022-04-11T02:29:33.332236Z",
     "iopub.status.idle": "2022-04-11T02:29:33.337546Z",
     "shell.execute_reply": "2022-04-11T02:29:33.338094Z",
     "shell.execute_reply.started": "2022-04-11T01:57:57.262624Z"
    },
    "papermill": {
     "duration": 0.041697,
     "end_time": "2022-04-11T02:29:33.338280",
     "exception": false,
     "start_time": "2022-04-11T02:29:33.296583",
     "status": "completed"
    },
    "tags": []
   },
   "outputs": [
    {
     "data": {
      "application/javascript": [
       "parent.postMessage({\"jupyterEvent\": \"custom.exercise_interaction\", \"data\": {\"outcomeType\": 1, \"valueTowardsCompletion\": 0.25, \"interactionType\": 1, \"questionType\": 4, \"questionId\": \"1_CheckDtype\", \"learnToolsVersion\": \"0.3.4\", \"failureMessage\": \"\", \"exceptionClass\": \"\", \"trace\": \"\"}}, \"*\")"
      ],
      "text/plain": [
       "<IPython.core.display.Javascript object>"
      ]
     },
     "metadata": {},
     "output_type": "display_data"
    },
    {
     "data": {
      "text/markdown": [
       "<span style=\"color:#33cc33\">Correct:</span> \n",
       "\n",
       "The \"Date\" column in the `earthquakes` DataFrame does have dates.  The dtype is \"object\"."
      ],
      "text/plain": [
       "Correct: \n",
       "\n",
       "The \"Date\" column in the `earthquakes` DataFrame does have dates.  The dtype is \"object\"."
      ]
     },
     "metadata": {},
     "output_type": "display_data"
    }
   ],
   "source": [
    "# Check your answer (Run this code cell to receive credit!)\n",
    "q1.check()"
   ]
  },
  {
   "cell_type": "code",
   "execution_count": 5,
   "id": "546f00e5",
   "metadata": {
    "execution": {
     "iopub.execute_input": "2022-04-11T02:29:33.406439Z",
     "iopub.status.busy": "2022-04-11T02:29:33.405769Z",
     "iopub.status.idle": "2022-04-11T02:29:33.408282Z",
     "shell.execute_reply": "2022-04-11T02:29:33.408917Z",
     "shell.execute_reply.started": "2022-04-11T01:58:12.564779Z"
    },
    "papermill": {
     "duration": 0.038054,
     "end_time": "2022-04-11T02:29:33.409091",
     "exception": false,
     "start_time": "2022-04-11T02:29:33.371037",
     "status": "completed"
    },
    "tags": []
   },
   "outputs": [],
   "source": [
    "# Line below will give you a hint\n",
    "#q1.hint()"
   ]
  },
  {
   "cell_type": "markdown",
   "id": "d340650f",
   "metadata": {
    "papermill": {
     "duration": 0.031541,
     "end_time": "2022-04-11T02:29:33.472741",
     "exception": false,
     "start_time": "2022-04-11T02:29:33.441200",
     "status": "completed"
    },
    "tags": []
   },
   "source": [
    "# 2) Convert our date columns to datetime\n",
    "\n",
    "Most of the entries in the \"Date\" column follow the same format: \"month/day/four-digit year\".  However, the entry at index 3378 follows a completely different pattern.  Run the code cell below to see this."
   ]
  },
  {
   "cell_type": "code",
   "execution_count": 6,
   "id": "3d8dcf61",
   "metadata": {
    "execution": {
     "iopub.execute_input": "2022-04-11T02:29:33.547087Z",
     "iopub.status.busy": "2022-04-11T02:29:33.546375Z",
     "iopub.status.idle": "2022-04-11T02:29:33.572578Z",
     "shell.execute_reply": "2022-04-11T02:29:33.573186Z",
     "shell.execute_reply.started": "2022-04-11T01:58:34.137363Z"
    },
    "papermill": {
     "duration": 0.068876,
     "end_time": "2022-04-11T02:29:33.573368",
     "exception": false,
     "start_time": "2022-04-11T02:29:33.504492",
     "status": "completed"
    },
    "tags": []
   },
   "outputs": [
    {
     "data": {
      "text/html": [
       "<div>\n",
       "<style scoped>\n",
       "    .dataframe tbody tr th:only-of-type {\n",
       "        vertical-align: middle;\n",
       "    }\n",
       "\n",
       "    .dataframe tbody tr th {\n",
       "        vertical-align: top;\n",
       "    }\n",
       "\n",
       "    .dataframe thead th {\n",
       "        text-align: right;\n",
       "    }\n",
       "</style>\n",
       "<table border=\"1\" class=\"dataframe\">\n",
       "  <thead>\n",
       "    <tr style=\"text-align: right;\">\n",
       "      <th></th>\n",
       "      <th>Date</th>\n",
       "      <th>Time</th>\n",
       "      <th>Latitude</th>\n",
       "      <th>Longitude</th>\n",
       "      <th>Type</th>\n",
       "      <th>Depth</th>\n",
       "      <th>Depth Error</th>\n",
       "      <th>Depth Seismic Stations</th>\n",
       "      <th>Magnitude</th>\n",
       "      <th>Magnitude Type</th>\n",
       "      <th>...</th>\n",
       "      <th>Magnitude Seismic Stations</th>\n",
       "      <th>Azimuthal Gap</th>\n",
       "      <th>Horizontal Distance</th>\n",
       "      <th>Horizontal Error</th>\n",
       "      <th>Root Mean Square</th>\n",
       "      <th>ID</th>\n",
       "      <th>Source</th>\n",
       "      <th>Location Source</th>\n",
       "      <th>Magnitude Source</th>\n",
       "      <th>Status</th>\n",
       "    </tr>\n",
       "  </thead>\n",
       "  <tbody>\n",
       "    <tr>\n",
       "      <th>3378</th>\n",
       "      <td>1975-02-23T02:58:41.000Z</td>\n",
       "      <td>1975-02-23T02:58:41.000Z</td>\n",
       "      <td>8.017</td>\n",
       "      <td>124.075</td>\n",
       "      <td>Earthquake</td>\n",
       "      <td>623.0</td>\n",
       "      <td>NaN</td>\n",
       "      <td>NaN</td>\n",
       "      <td>5.6</td>\n",
       "      <td>MB</td>\n",
       "      <td>...</td>\n",
       "      <td>NaN</td>\n",
       "      <td>NaN</td>\n",
       "      <td>NaN</td>\n",
       "      <td>NaN</td>\n",
       "      <td>NaN</td>\n",
       "      <td>USP0000A09</td>\n",
       "      <td>US</td>\n",
       "      <td>US</td>\n",
       "      <td>US</td>\n",
       "      <td>Reviewed</td>\n",
       "    </tr>\n",
       "    <tr>\n",
       "      <th>3379</th>\n",
       "      <td>02/23/1975</td>\n",
       "      <td>03:53:36</td>\n",
       "      <td>-21.727</td>\n",
       "      <td>-71.356</td>\n",
       "      <td>Earthquake</td>\n",
       "      <td>33.0</td>\n",
       "      <td>NaN</td>\n",
       "      <td>NaN</td>\n",
       "      <td>5.6</td>\n",
       "      <td>MB</td>\n",
       "      <td>...</td>\n",
       "      <td>NaN</td>\n",
       "      <td>NaN</td>\n",
       "      <td>NaN</td>\n",
       "      <td>NaN</td>\n",
       "      <td>NaN</td>\n",
       "      <td>USP0000A0A</td>\n",
       "      <td>US</td>\n",
       "      <td>US</td>\n",
       "      <td>US</td>\n",
       "      <td>Reviewed</td>\n",
       "    </tr>\n",
       "    <tr>\n",
       "      <th>3380</th>\n",
       "      <td>02/23/1975</td>\n",
       "      <td>07:34:11</td>\n",
       "      <td>-10.879</td>\n",
       "      <td>166.667</td>\n",
       "      <td>Earthquake</td>\n",
       "      <td>33.0</td>\n",
       "      <td>NaN</td>\n",
       "      <td>NaN</td>\n",
       "      <td>5.5</td>\n",
       "      <td>MS</td>\n",
       "      <td>...</td>\n",
       "      <td>NaN</td>\n",
       "      <td>NaN</td>\n",
       "      <td>NaN</td>\n",
       "      <td>NaN</td>\n",
       "      <td>NaN</td>\n",
       "      <td>USP0000A0C</td>\n",
       "      <td>US</td>\n",
       "      <td>US</td>\n",
       "      <td>US</td>\n",
       "      <td>Reviewed</td>\n",
       "    </tr>\n",
       "    <tr>\n",
       "      <th>3381</th>\n",
       "      <td>02/25/1975</td>\n",
       "      <td>05:20:05</td>\n",
       "      <td>-7.388</td>\n",
       "      <td>149.798</td>\n",
       "      <td>Earthquake</td>\n",
       "      <td>33.0</td>\n",
       "      <td>NaN</td>\n",
       "      <td>NaN</td>\n",
       "      <td>5.5</td>\n",
       "      <td>MB</td>\n",
       "      <td>...</td>\n",
       "      <td>NaN</td>\n",
       "      <td>NaN</td>\n",
       "      <td>NaN</td>\n",
       "      <td>NaN</td>\n",
       "      <td>NaN</td>\n",
       "      <td>USP0000A12</td>\n",
       "      <td>US</td>\n",
       "      <td>US</td>\n",
       "      <td>US</td>\n",
       "      <td>Reviewed</td>\n",
       "    </tr>\n",
       "    <tr>\n",
       "      <th>3382</th>\n",
       "      <td>02/26/1975</td>\n",
       "      <td>04:48:55</td>\n",
       "      <td>85.047</td>\n",
       "      <td>97.969</td>\n",
       "      <td>Earthquake</td>\n",
       "      <td>33.0</td>\n",
       "      <td>NaN</td>\n",
       "      <td>NaN</td>\n",
       "      <td>5.6</td>\n",
       "      <td>MS</td>\n",
       "      <td>...</td>\n",
       "      <td>NaN</td>\n",
       "      <td>NaN</td>\n",
       "      <td>NaN</td>\n",
       "      <td>NaN</td>\n",
       "      <td>NaN</td>\n",
       "      <td>USP0000A1H</td>\n",
       "      <td>US</td>\n",
       "      <td>US</td>\n",
       "      <td>US</td>\n",
       "      <td>Reviewed</td>\n",
       "    </tr>\n",
       "  </tbody>\n",
       "</table>\n",
       "<p>5 rows × 21 columns</p>\n",
       "</div>"
      ],
      "text/plain": [
       "                          Date                      Time  Latitude  Longitude  \\\n",
       "3378  1975-02-23T02:58:41.000Z  1975-02-23T02:58:41.000Z     8.017    124.075   \n",
       "3379                02/23/1975                  03:53:36   -21.727    -71.356   \n",
       "3380                02/23/1975                  07:34:11   -10.879    166.667   \n",
       "3381                02/25/1975                  05:20:05    -7.388    149.798   \n",
       "3382                02/26/1975                  04:48:55    85.047     97.969   \n",
       "\n",
       "            Type  Depth  Depth Error  Depth Seismic Stations  Magnitude  \\\n",
       "3378  Earthquake  623.0          NaN                     NaN        5.6   \n",
       "3379  Earthquake   33.0          NaN                     NaN        5.6   \n",
       "3380  Earthquake   33.0          NaN                     NaN        5.5   \n",
       "3381  Earthquake   33.0          NaN                     NaN        5.5   \n",
       "3382  Earthquake   33.0          NaN                     NaN        5.6   \n",
       "\n",
       "     Magnitude Type  ...  Magnitude Seismic Stations  Azimuthal Gap  \\\n",
       "3378             MB  ...                         NaN            NaN   \n",
       "3379             MB  ...                         NaN            NaN   \n",
       "3380             MS  ...                         NaN            NaN   \n",
       "3381             MB  ...                         NaN            NaN   \n",
       "3382             MS  ...                         NaN            NaN   \n",
       "\n",
       "      Horizontal Distance  Horizontal Error  Root Mean Square          ID  \\\n",
       "3378                  NaN               NaN               NaN  USP0000A09   \n",
       "3379                  NaN               NaN               NaN  USP0000A0A   \n",
       "3380                  NaN               NaN               NaN  USP0000A0C   \n",
       "3381                  NaN               NaN               NaN  USP0000A12   \n",
       "3382                  NaN               NaN               NaN  USP0000A1H   \n",
       "\n",
       "     Source Location Source Magnitude Source    Status  \n",
       "3378     US              US               US  Reviewed  \n",
       "3379     US              US               US  Reviewed  \n",
       "3380     US              US               US  Reviewed  \n",
       "3381     US              US               US  Reviewed  \n",
       "3382     US              US               US  Reviewed  \n",
       "\n",
       "[5 rows x 21 columns]"
      ]
     },
     "execution_count": 6,
     "metadata": {},
     "output_type": "execute_result"
    }
   ],
   "source": [
    "earthquakes[3378:3383]"
   ]
  },
  {
   "cell_type": "markdown",
   "id": "564e79bc",
   "metadata": {
    "papermill": {
     "duration": 0.032097,
     "end_time": "2022-04-11T02:29:33.639002",
     "exception": false,
     "start_time": "2022-04-11T02:29:33.606905",
     "status": "completed"
    },
    "tags": []
   },
   "source": [
    "This does appear to be an issue with data entry: ideally, all entries in the column have the same format.  We can get an idea of how widespread this issue is by checking the length of each entry in the \"Date\" column."
   ]
  },
  {
   "cell_type": "code",
   "execution_count": 7,
   "id": "62e67449",
   "metadata": {
    "execution": {
     "iopub.execute_input": "2022-04-11T02:29:33.709202Z",
     "iopub.status.busy": "2022-04-11T02:29:33.708484Z",
     "iopub.status.idle": "2022-04-11T02:29:33.735547Z",
     "shell.execute_reply": "2022-04-11T02:29:33.736537Z",
     "shell.execute_reply.started": "2022-04-11T01:59:37.405616Z"
    },
    "papermill": {
     "duration": 0.065318,
     "end_time": "2022-04-11T02:29:33.736798",
     "exception": false,
     "start_time": "2022-04-11T02:29:33.671480",
     "status": "completed"
    },
    "tags": []
   },
   "outputs": [
    {
     "data": {
      "text/plain": [
       "10    23409\n",
       "24        3\n",
       "Name: Date, dtype: int64"
      ]
     },
     "execution_count": 7,
     "metadata": {},
     "output_type": "execute_result"
    }
   ],
   "source": [
    "date_lengths = earthquakes.Date.str.len()\n",
    "date_lengths.value_counts()"
   ]
  },
  {
   "cell_type": "code",
   "execution_count": 8,
   "id": "423641e2",
   "metadata": {
    "execution": {
     "iopub.execute_input": "2022-04-11T02:29:33.809657Z",
     "iopub.status.busy": "2022-04-11T02:29:33.806031Z",
     "iopub.status.idle": "2022-04-11T02:29:33.813733Z",
     "shell.execute_reply": "2022-04-11T02:29:33.813177Z",
     "shell.execute_reply.started": "2022-04-11T02:00:50.711590Z"
    },
    "papermill": {
     "duration": 0.043414,
     "end_time": "2022-04-11T02:29:33.813882",
     "exception": false,
     "start_time": "2022-04-11T02:29:33.770468",
     "status": "completed"
    },
    "tags": []
   },
   "outputs": [
    {
     "data": {
      "text/plain": [
       "0    10\n",
       "1    10\n",
       "2    10\n",
       "3    10\n",
       "4    10\n",
       "Name: Date, dtype: int64"
      ]
     },
     "execution_count": 8,
     "metadata": {},
     "output_type": "execute_result"
    }
   ],
   "source": [
    "date_lengths.head()"
   ]
  },
  {
   "cell_type": "markdown",
   "id": "76baf4ac",
   "metadata": {
    "papermill": {
     "duration": 0.03321,
     "end_time": "2022-04-11T02:29:33.881009",
     "exception": false,
     "start_time": "2022-04-11T02:29:33.847799",
     "status": "completed"
    },
    "tags": []
   },
   "source": [
    "Looks like there are two more rows that has a date in a different format.  Run the code cell below to obtain the indices corresponding to those rows and print the data."
   ]
  },
  {
   "cell_type": "code",
   "execution_count": 9,
   "id": "42da9680",
   "metadata": {
    "execution": {
     "iopub.execute_input": "2022-04-11T02:29:33.955226Z",
     "iopub.status.busy": "2022-04-11T02:29:33.954530Z",
     "iopub.status.idle": "2022-04-11T02:29:33.981980Z",
     "shell.execute_reply": "2022-04-11T02:29:33.982668Z",
     "shell.execute_reply.started": "2022-04-11T02:01:14.205371Z"
    },
    "papermill": {
     "duration": 0.068262,
     "end_time": "2022-04-11T02:29:33.982846",
     "exception": false,
     "start_time": "2022-04-11T02:29:33.914584",
     "status": "completed"
    },
    "tags": []
   },
   "outputs": [
    {
     "name": "stdout",
     "output_type": "stream",
     "text": [
      "Indices with corrupted data: [ 3378  7512 20650]\n"
     ]
    },
    {
     "data": {
      "text/html": [
       "<div>\n",
       "<style scoped>\n",
       "    .dataframe tbody tr th:only-of-type {\n",
       "        vertical-align: middle;\n",
       "    }\n",
       "\n",
       "    .dataframe tbody tr th {\n",
       "        vertical-align: top;\n",
       "    }\n",
       "\n",
       "    .dataframe thead th {\n",
       "        text-align: right;\n",
       "    }\n",
       "</style>\n",
       "<table border=\"1\" class=\"dataframe\">\n",
       "  <thead>\n",
       "    <tr style=\"text-align: right;\">\n",
       "      <th></th>\n",
       "      <th>Date</th>\n",
       "      <th>Time</th>\n",
       "      <th>Latitude</th>\n",
       "      <th>Longitude</th>\n",
       "      <th>Type</th>\n",
       "      <th>Depth</th>\n",
       "      <th>Depth Error</th>\n",
       "      <th>Depth Seismic Stations</th>\n",
       "      <th>Magnitude</th>\n",
       "      <th>Magnitude Type</th>\n",
       "      <th>...</th>\n",
       "      <th>Magnitude Seismic Stations</th>\n",
       "      <th>Azimuthal Gap</th>\n",
       "      <th>Horizontal Distance</th>\n",
       "      <th>Horizontal Error</th>\n",
       "      <th>Root Mean Square</th>\n",
       "      <th>ID</th>\n",
       "      <th>Source</th>\n",
       "      <th>Location Source</th>\n",
       "      <th>Magnitude Source</th>\n",
       "      <th>Status</th>\n",
       "    </tr>\n",
       "  </thead>\n",
       "  <tbody>\n",
       "    <tr>\n",
       "      <th>3378</th>\n",
       "      <td>1975-02-23T02:58:41.000Z</td>\n",
       "      <td>1975-02-23T02:58:41.000Z</td>\n",
       "      <td>8.017</td>\n",
       "      <td>124.075</td>\n",
       "      <td>Earthquake</td>\n",
       "      <td>623.0</td>\n",
       "      <td>NaN</td>\n",
       "      <td>NaN</td>\n",
       "      <td>5.6</td>\n",
       "      <td>MB</td>\n",
       "      <td>...</td>\n",
       "      <td>NaN</td>\n",
       "      <td>NaN</td>\n",
       "      <td>NaN</td>\n",
       "      <td>NaN</td>\n",
       "      <td>NaN</td>\n",
       "      <td>USP0000A09</td>\n",
       "      <td>US</td>\n",
       "      <td>US</td>\n",
       "      <td>US</td>\n",
       "      <td>Reviewed</td>\n",
       "    </tr>\n",
       "    <tr>\n",
       "      <th>7512</th>\n",
       "      <td>1985-04-28T02:53:41.530Z</td>\n",
       "      <td>1985-04-28T02:53:41.530Z</td>\n",
       "      <td>-32.998</td>\n",
       "      <td>-71.766</td>\n",
       "      <td>Earthquake</td>\n",
       "      <td>33.0</td>\n",
       "      <td>NaN</td>\n",
       "      <td>NaN</td>\n",
       "      <td>5.6</td>\n",
       "      <td>MW</td>\n",
       "      <td>...</td>\n",
       "      <td>NaN</td>\n",
       "      <td>NaN</td>\n",
       "      <td>NaN</td>\n",
       "      <td>NaN</td>\n",
       "      <td>1.30</td>\n",
       "      <td>USP0002E81</td>\n",
       "      <td>US</td>\n",
       "      <td>US</td>\n",
       "      <td>HRV</td>\n",
       "      <td>Reviewed</td>\n",
       "    </tr>\n",
       "    <tr>\n",
       "      <th>20650</th>\n",
       "      <td>2011-03-13T02:23:34.520Z</td>\n",
       "      <td>2011-03-13T02:23:34.520Z</td>\n",
       "      <td>36.344</td>\n",
       "      <td>142.344</td>\n",
       "      <td>Earthquake</td>\n",
       "      <td>10.1</td>\n",
       "      <td>13.9</td>\n",
       "      <td>289.0</td>\n",
       "      <td>5.8</td>\n",
       "      <td>MWC</td>\n",
       "      <td>...</td>\n",
       "      <td>NaN</td>\n",
       "      <td>32.3</td>\n",
       "      <td>NaN</td>\n",
       "      <td>NaN</td>\n",
       "      <td>1.06</td>\n",
       "      <td>USP000HWQP</td>\n",
       "      <td>US</td>\n",
       "      <td>US</td>\n",
       "      <td>GCMT</td>\n",
       "      <td>Reviewed</td>\n",
       "    </tr>\n",
       "  </tbody>\n",
       "</table>\n",
       "<p>3 rows × 21 columns</p>\n",
       "</div>"
      ],
      "text/plain": [
       "                           Date                      Time  Latitude  \\\n",
       "3378   1975-02-23T02:58:41.000Z  1975-02-23T02:58:41.000Z     8.017   \n",
       "7512   1985-04-28T02:53:41.530Z  1985-04-28T02:53:41.530Z   -32.998   \n",
       "20650  2011-03-13T02:23:34.520Z  2011-03-13T02:23:34.520Z    36.344   \n",
       "\n",
       "       Longitude        Type  Depth  Depth Error  Depth Seismic Stations  \\\n",
       "3378     124.075  Earthquake  623.0          NaN                     NaN   \n",
       "7512     -71.766  Earthquake   33.0          NaN                     NaN   \n",
       "20650    142.344  Earthquake   10.1         13.9                   289.0   \n",
       "\n",
       "       Magnitude Magnitude Type  ...  Magnitude Seismic Stations  \\\n",
       "3378         5.6             MB  ...                         NaN   \n",
       "7512         5.6             MW  ...                         NaN   \n",
       "20650        5.8            MWC  ...                         NaN   \n",
       "\n",
       "       Azimuthal Gap  Horizontal Distance  Horizontal Error  Root Mean Square  \\\n",
       "3378             NaN                  NaN               NaN               NaN   \n",
       "7512             NaN                  NaN               NaN              1.30   \n",
       "20650           32.3                  NaN               NaN              1.06   \n",
       "\n",
       "               ID Source Location Source Magnitude Source    Status  \n",
       "3378   USP0000A09     US              US               US  Reviewed  \n",
       "7512   USP0002E81     US              US              HRV  Reviewed  \n",
       "20650  USP000HWQP     US              US             GCMT  Reviewed  \n",
       "\n",
       "[3 rows x 21 columns]"
      ]
     },
     "execution_count": 9,
     "metadata": {},
     "output_type": "execute_result"
    }
   ],
   "source": [
    "indices = np.where([date_lengths == 24])[1]\n",
    "print('Indices with corrupted data:', indices)\n",
    "earthquakes.loc[indices]"
   ]
  },
  {
   "cell_type": "markdown",
   "id": "46034395",
   "metadata": {
    "papermill": {
     "duration": 0.035886,
     "end_time": "2022-04-11T02:29:34.054164",
     "exception": false,
     "start_time": "2022-04-11T02:29:34.018278",
     "status": "completed"
    },
    "tags": []
   },
   "source": [
    "Given all of this information, it's your turn to create a new column \"date_parsed\" in the `earthquakes` dataset that has correctly parsed dates in it.  \n",
    "\n",
    "**Note**: When completing this problem, you are allowed to (but are not required to) amend the entries in the \"Date\" and \"Time\" columns.  Do not remove any rows from the dataset."
   ]
  },
  {
   "cell_type": "code",
   "execution_count": 10,
   "id": "1477746d",
   "metadata": {
    "execution": {
     "iopub.execute_input": "2022-04-11T02:29:34.127357Z",
     "iopub.status.busy": "2022-04-11T02:29:34.126662Z",
     "iopub.status.idle": "2022-04-11T02:29:34.199800Z",
     "shell.execute_reply": "2022-04-11T02:29:34.199024Z",
     "shell.execute_reply.started": "2022-04-11T02:14:03.545987Z"
    },
    "papermill": {
     "duration": 0.111087,
     "end_time": "2022-04-11T02:29:34.199953",
     "exception": false,
     "start_time": "2022-04-11T02:29:34.088866",
     "status": "completed"
    },
    "tags": []
   },
   "outputs": [
    {
     "data": {
      "application/javascript": [
       "parent.postMessage({\"jupyterEvent\": \"custom.exercise_interaction\", \"data\": {\"outcomeType\": 1, \"valueTowardsCompletion\": 0.25, \"interactionType\": 1, \"questionType\": 2, \"questionId\": \"2_ConvertToDatetime\", \"learnToolsVersion\": \"0.3.4\", \"failureMessage\": \"\", \"exceptionClass\": \"\", \"trace\": \"\"}}, \"*\")"
      ],
      "text/plain": [
       "<IPython.core.display.Javascript object>"
      ]
     },
     "metadata": {},
     "output_type": "display_data"
    },
    {
     "data": {
      "text/markdown": [
       "<span style=\"color:#33cc33\">Correct</span>"
      ],
      "text/plain": [
       "Correct"
      ]
     },
     "metadata": {},
     "output_type": "display_data"
    }
   ],
   "source": [
    "# TODO: Your code here\n",
    "earthquakes.loc[3378,'Date']= \"02/23/1975\"\n",
    "earthquakes.loc[7512,'Date'] = \"04/28/1985\"\n",
    "earthquakes.loc[20650,'Date'] = \"03/13/2011\"\n",
    "earthquakes['date_parsed'] = pd.to_datetime(earthquakes['Date'],format = \"%m/%d/%Y\")\n",
    "# Check your answer\n",
    "q2.check()"
   ]
  },
  {
   "cell_type": "markdown",
   "id": "8d0527b9",
   "metadata": {
    "papermill": {
     "duration": 0.035789,
     "end_time": "2022-04-11T02:29:34.271599",
     "exception": false,
     "start_time": "2022-04-11T02:29:34.235810",
     "status": "completed"
    },
    "tags": []
   },
   "source": []
  },
  {
   "cell_type": "code",
   "execution_count": 11,
   "id": "71094537",
   "metadata": {
    "execution": {
     "iopub.execute_input": "2022-04-11T02:29:34.348551Z",
     "iopub.status.busy": "2022-04-11T02:29:34.347874Z",
     "iopub.status.idle": "2022-04-11T02:29:34.350331Z",
     "shell.execute_reply": "2022-04-11T02:29:34.350884Z",
     "shell.execute_reply.started": "2022-04-11T02:14:12.797859Z"
    },
    "papermill": {
     "duration": 0.043689,
     "end_time": "2022-04-11T02:29:34.351059",
     "exception": false,
     "start_time": "2022-04-11T02:29:34.307370",
     "status": "completed"
    },
    "tags": []
   },
   "outputs": [],
   "source": [
    "# Lines below will give you a hint or solution code\n",
    "#q2.hint()\n",
    "#q2.solution()"
   ]
  },
  {
   "cell_type": "markdown",
   "id": "f923e4d8",
   "metadata": {
    "papermill": {
     "duration": 0.035695,
     "end_time": "2022-04-11T02:29:34.422985",
     "exception": false,
     "start_time": "2022-04-11T02:29:34.387290",
     "status": "completed"
    },
    "tags": []
   },
   "source": [
    "# 3) Select the day of the month\n",
    "\n",
    "Create a Pandas Series `day_of_month_earthquakes` containing the day of the month from the \"date_parsed\" column."
   ]
  },
  {
   "cell_type": "code",
   "execution_count": 12,
   "id": "d52b93b3",
   "metadata": {
    "execution": {
     "iopub.execute_input": "2022-04-11T02:29:34.500019Z",
     "iopub.status.busy": "2022-04-11T02:29:34.499289Z",
     "iopub.status.idle": "2022-04-11T02:29:34.509101Z",
     "shell.execute_reply": "2022-04-11T02:29:34.508428Z",
     "shell.execute_reply.started": "2022-04-11T02:15:24.866646Z"
    },
    "papermill": {
     "duration": 0.050403,
     "end_time": "2022-04-11T02:29:34.509259",
     "exception": false,
     "start_time": "2022-04-11T02:29:34.458856",
     "status": "completed"
    },
    "tags": []
   },
   "outputs": [
    {
     "data": {
      "application/javascript": [
       "parent.postMessage({\"jupyterEvent\": \"custom.exercise_interaction\", \"data\": {\"outcomeType\": 1, \"valueTowardsCompletion\": 0.25, \"interactionType\": 1, \"questionType\": 1, \"questionId\": \"3_DayOfMonth\", \"learnToolsVersion\": \"0.3.4\", \"failureMessage\": \"\", \"exceptionClass\": \"\", \"trace\": \"\"}}, \"*\")"
      ],
      "text/plain": [
       "<IPython.core.display.Javascript object>"
      ]
     },
     "metadata": {},
     "output_type": "display_data"
    },
    {
     "data": {
      "text/markdown": [
       "<span style=\"color:#33cc33\">Correct</span>"
      ],
      "text/plain": [
       "Correct"
      ]
     },
     "metadata": {},
     "output_type": "display_data"
    }
   ],
   "source": [
    "# try to get the day of the month from the date column\n",
    "day_of_month_earthquakes = earthquakes['date_parsed'].dt.day\n",
    "\n",
    "# Check your answer\n",
    "q3.check()"
   ]
  },
  {
   "cell_type": "code",
   "execution_count": 13,
   "id": "6f8c0aa6",
   "metadata": {
    "execution": {
     "iopub.execute_input": "2022-04-11T02:29:34.587946Z",
     "iopub.status.busy": "2022-04-11T02:29:34.587221Z",
     "iopub.status.idle": "2022-04-11T02:29:34.590753Z",
     "shell.execute_reply": "2022-04-11T02:29:34.590081Z",
     "shell.execute_reply.started": "2022-04-11T02:15:28.479919Z"
    },
    "papermill": {
     "duration": 0.044821,
     "end_time": "2022-04-11T02:29:34.590898",
     "exception": false,
     "start_time": "2022-04-11T02:29:34.546077",
     "status": "completed"
    },
    "tags": []
   },
   "outputs": [],
   "source": [
    "# Lines below will give you a hint or solution code\n",
    "#q3.hint()\n",
    "#q3.solution()"
   ]
  },
  {
   "cell_type": "markdown",
   "id": "88dc339b",
   "metadata": {
    "papermill": {
     "duration": 0.037525,
     "end_time": "2022-04-11T02:29:34.665351",
     "exception": false,
     "start_time": "2022-04-11T02:29:34.627826",
     "status": "completed"
    },
    "tags": []
   },
   "source": [
    "# 4) Plot the day of the month to check the date parsing\n",
    "\n",
    "Plot the days of the month from your earthquake dataset."
   ]
  },
  {
   "cell_type": "code",
   "execution_count": 14,
   "id": "eea3edc6",
   "metadata": {
    "execution": {
     "iopub.execute_input": "2022-04-11T02:29:34.746744Z",
     "iopub.status.busy": "2022-04-11T02:29:34.745693Z",
     "iopub.status.idle": "2022-04-11T02:29:35.045250Z",
     "shell.execute_reply": "2022-04-11T02:29:35.045793Z",
     "shell.execute_reply.started": "2022-04-11T02:17:53.196147Z"
    },
    "papermill": {
     "duration": 0.342882,
     "end_time": "2022-04-11T02:29:35.045992",
     "exception": false,
     "start_time": "2022-04-11T02:29:34.703110",
     "status": "completed"
    },
    "tags": []
   },
   "outputs": [
    {
     "name": "stderr",
     "output_type": "stream",
     "text": [
      "/opt/conda/lib/python3.7/site-packages/seaborn/distributions.py:2619: FutureWarning: `distplot` is a deprecated function and will be removed in a future version. Please adapt your code to use either `displot` (a figure-level function with similar flexibility) or `histplot` (an axes-level function for histograms).\n",
      "  warnings.warn(msg, FutureWarning)\n"
     ]
    },
    {
     "data": {
      "text/plain": [
       "<AxesSubplot:xlabel='date_parsed'>"
      ]
     },
     "execution_count": 14,
     "metadata": {},
     "output_type": "execute_result"
    },
    {
     "data": {
      "image/png": "[encoded data removed]",
      "text/plain": [
       "<Figure size 432x288 with 1 Axes>"
      ]
     },
     "metadata": {
      "needs_background": "light"
     },
     "output_type": "display_data"
    }
   ],
   "source": [
    "# TODO: Your code here!\n",
    "\n",
    "day_of_month_earthquakes =day_of_month_earthquakes.dropna()\n",
    "sns.distplot(day_of_month_earthquakes, kde= False , bins = 31)\n"
   ]
  },
  {
   "cell_type": "markdown",
   "id": "0b6dc050",
   "metadata": {
    "papermill": {
     "duration": 0.038081,
     "end_time": "2022-04-11T02:29:35.122488",
     "exception": false,
     "start_time": "2022-04-11T02:29:35.084407",
     "status": "completed"
    },
    "tags": []
   },
   "source": [
    "Does the graph make sense to you?"
   ]
  },
  {
   "cell_type": "code",
   "execution_count": 15,
   "id": "98c5d14b",
   "metadata": {
    "execution": {
     "iopub.execute_input": "2022-04-11T02:29:35.205260Z",
     "iopub.status.busy": "2022-04-11T02:29:35.204475Z",
     "iopub.status.idle": "2022-04-11T02:29:35.209609Z",
     "shell.execute_reply": "2022-04-11T02:29:35.208980Z",
     "shell.execute_reply.started": "2022-04-11T02:18:08.881454Z"
    },
    "papermill": {
     "duration": 0.048944,
     "end_time": "2022-04-11T02:29:35.209792",
     "exception": false,
     "start_time": "2022-04-11T02:29:35.160848",
     "status": "completed"
    },
    "tags": []
   },
   "outputs": [
    {
     "data": {
      "application/javascript": [
       "parent.postMessage({\"jupyterEvent\": \"custom.exercise_interaction\", \"data\": {\"outcomeType\": 1, \"valueTowardsCompletion\": 0.25, \"interactionType\": 1, \"questionType\": 4, \"questionId\": \"4_PlotDayOfMonth\", \"learnToolsVersion\": \"0.3.4\", \"failureMessage\": \"\", \"exceptionClass\": \"\", \"trace\": \"\"}}, \"*\")"
      ],
      "text/plain": [
       "<IPython.core.display.Javascript object>"
      ]
     },
     "metadata": {},
     "output_type": "display_data"
    },
    {
     "data": {
      "text/markdown": [
       "<span style=\"color:#33cc33\">Correct:</span> \n",
       "\n",
       "The graph should make sense: it shows a relatively even distribution in days of the month,which is what we would expect."
      ],
      "text/plain": [
       "Correct: \n",
       "\n",
       "The graph should make sense: it shows a relatively even distribution in days of the month,which is what we would expect."
      ]
     },
     "metadata": {},
     "output_type": "display_data"
    }
   ],
   "source": [
    "# Check your answer (Run this code cell to receive credit!)\n",
    "q4.check()"
   ]
  },
  {
   "cell_type": "code",
   "execution_count": 16,
   "id": "1b03bd57",
   "metadata": {
    "execution": {
     "iopub.execute_input": "2022-04-11T02:29:35.293414Z",
     "iopub.status.busy": "2022-04-11T02:29:35.292749Z",
     "iopub.status.idle": "2022-04-11T02:29:35.295211Z",
     "shell.execute_reply": "2022-04-11T02:29:35.294604Z",
     "shell.execute_reply.started": "2022-04-11T02:18:37.219831Z"
    },
    "papermill": {
     "duration": 0.045828,
     "end_time": "2022-04-11T02:29:35.295351",
     "exception": false,
     "start_time": "2022-04-11T02:29:35.249523",
     "status": "completed"
    },
    "tags": []
   },
   "outputs": [],
   "source": [
    "# Line below will give you a hint\n",
    "#q4.hint()"
   ]
  },
  {
   "cell_type": "markdown",
   "id": "55efd1a4",
   "metadata": {
    "papermill": {
     "duration": 0.038963,
     "end_time": "2022-04-11T02:29:35.373759",
     "exception": false,
     "start_time": "2022-04-11T02:29:35.334796",
     "status": "completed"
    },
    "tags": []
   },
   "source": [
    "# (Optional) Bonus Challenge\n",
    "\n",
    "For an extra challenge, you'll work with a [Smithsonian dataset](https://www.kaggle.com/smithsonian/volcanic-eruptions) that documents Earth's volcanoes and their eruptive history over the past 10,000 years \n",
    "\n",
    "Run the next code cell to load the data."
   ]
  },
  {
   "cell_type": "code",
   "execution_count": 17,
   "id": "dae4fa5c",
   "metadata": {
    "execution": {
     "iopub.execute_input": "2022-04-11T02:29:35.457516Z",
     "iopub.status.busy": "2022-04-11T02:29:35.456795Z",
     "iopub.status.idle": "2022-04-11T02:29:35.483122Z",
     "shell.execute_reply": "2022-04-11T02:29:35.483698Z",
     "shell.execute_reply.started": "2022-04-11T02:18:42.701426Z"
    },
    "papermill": {
     "duration": 0.070637,
     "end_time": "2022-04-11T02:29:35.483891",
     "exception": false,
     "start_time": "2022-04-11T02:29:35.413254",
     "status": "completed"
    },
    "tags": []
   },
   "outputs": [],
   "source": [
    "volcanos = pd.read_csv(\"../input/volcanic-eruptions/database.csv\")"
   ]
  },
  {
   "cell_type": "markdown",
   "id": "127f94ce",
   "metadata": {
    "papermill": {
     "duration": 0.040749,
     "end_time": "2022-04-11T02:29:35.564971",
     "exception": false,
     "start_time": "2022-04-11T02:29:35.524222",
     "status": "completed"
    },
    "tags": []
   },
   "source": [
    "Try parsing the column \"Last Known Eruption\" from the `volcanos` dataframe. This column contains a mixture of text (\"Unknown\") and years both before the common era (BCE, also known as BC) and in the common era (CE, also known as AD)."
   ]
  },
  {
   "cell_type": "code",
   "execution_count": 18,
   "id": "333fc6f6",
   "metadata": {
    "execution": {
     "iopub.execute_input": "2022-04-11T02:29:35.649271Z",
     "iopub.status.busy": "2022-04-11T02:29:35.648547Z",
     "iopub.status.idle": "2022-04-11T02:29:35.655132Z",
     "shell.execute_reply": "2022-04-11T02:29:35.655596Z",
     "shell.execute_reply.started": "2022-04-11T02:23:48.333158Z"
    },
    "papermill": {
     "duration": 0.050521,
     "end_time": "2022-04-11T02:29:35.655793",
     "exception": false,
     "start_time": "2022-04-11T02:29:35.605272",
     "status": "completed"
    },
    "tags": []
   },
   "outputs": [
    {
     "data": {
      "text/plain": [
       "764      Unknown\n",
       "1069     1996 CE\n",
       "34       1855 CE\n",
       "489      2016 CE\n",
       "9        1302 CE\n",
       "641      Unknown\n",
       "1115     Unknown\n",
       "530     3500 BCE\n",
       "575      Unknown\n",
       "219      Unknown\n",
       "Name: Last Known Eruption, dtype: object"
      ]
     },
     "execution_count": 18,
     "metadata": {},
     "output_type": "execute_result"
    }
   ],
   "source": [
    "volcanos['Last Known Eruption'].sample(10)"
   ]
  },
  {
   "cell_type": "code",
   "execution_count": 19,
   "id": "45c796d6",
   "metadata": {
    "execution": {
     "iopub.execute_input": "2022-04-11T02:29:35.742177Z",
     "iopub.status.busy": "2022-04-11T02:29:35.741397Z",
     "iopub.status.idle": "2022-04-11T02:29:35.749954Z",
     "shell.execute_reply": "2022-04-11T02:29:35.750491Z",
     "shell.execute_reply.started": "2022-04-11T02:22:42.030252Z"
    },
    "papermill": {
     "duration": 0.05355,
     "end_time": "2022-04-11T02:29:35.750690",
     "exception": false,
     "start_time": "2022-04-11T02:29:35.697140",
     "status": "completed"
    },
    "tags": []
   },
   "outputs": [
    {
     "data": {
      "text/plain": [
       "7    1312\n",
       "8     129\n",
       "6      62\n",
       "5       3\n",
       "9       1\n",
       "4       1\n",
       "Name: Last Known Eruption, dtype: int64"
      ]
     },
     "execution_count": 19,
     "metadata": {},
     "output_type": "execute_result"
    }
   ],
   "source": [
    "lengths = volcanos['Last Known Eruption'].str.len()\n",
    "lengths.value_counts()"
   ]
  },
  {
   "cell_type": "markdown",
   "id": "b3f8fe6f",
   "metadata": {
    "papermill": {
     "duration": 0.040653,
     "end_time": "2022-04-11T02:29:35.832330",
     "exception": false,
     "start_time": "2022-04-11T02:29:35.791677",
     "status": "completed"
    },
    "tags": []
   },
   "source": [
    "# (Optional) More practice\n",
    "\n",
    "If you're interested in graphing time series, [check out this tutorial](https://www.kaggle.com/residentmario/time-series-plotting-optional).\n",
    "\n",
    "You can also look into passing columns that you know have dates in them  the `parse_dates` argument in `read_csv`. (The documention [is here](https://pandas.pydata.org/pandas-docs/stable/generated/pandas.read_csv.html).) Do note that this method can be very slow, but depending on your needs it may sometimes be handy to use.\n",
    "\n",
    "# Keep going\n",
    "\n",
    "In the next lesson, learn how to [**work with character encodings**](https://www.kaggle.com/alexisbcook/character-encodings)."
   ]
  },
  {
   "cell_type": "markdown",
   "id": "c1cd75a3",
   "metadata": {
    "papermill": {
     "duration": 0.040054,
     "end_time": "2022-04-11T02:29:35.913737",
     "exception": false,
     "start_time": "2022-04-11T02:29:35.873683",
     "status": "completed"
    },
    "tags": []
   },
   "source": [
    "---\n",
    "\n",
    "\n",
    "\n",
    "\n",
    "*Have questions or comments? Visit the [course discussion forum](https://www.kaggle.com/learn/data-cleaning/discussion) to chat with other learners.*"
   ]
  }
 ],
 "metadata": {
  "kernelspec": {
   "display_name": "Python 3",
   "language": "python",
   "name": "python3"
  },
  "language_info": {
   "codemirror_mode": {
    "name": "ipython",
    "version": 3
   },
   "file_extension": ".py",
   "mimetype": "text/x-python",
   "name": "python",
   "nbconvert_exporter": "python",
   "pygments_lexer": "ipython3",
   "version": "3.7.12"
  },
  "papermill": {
   "default_parameters": {},
   "duration": 16.005116,
   "end_time": "2022-04-11T02:29:36.666194",
   "environment_variables": {},
   "exception": null,
   "input_path": "__notebook__.ipynb",
   "output_path": "__notebook__.ipynb",
   "parameters": {},
   "start_time": "2022-04-11T02:29:20.661078",
   "version": "2.3.3"
  }
 },
 "nbformat": 4,
 "nbformat_minor": 5
}
